{
 "cells": [
  {
   "cell_type": "code",
   "execution_count": 11,
   "metadata": {},
   "outputs": [],
   "source": [
    "import pandas as pd\n",
    "import requests\n",
    "import io"
   ]
  },
  {
   "cell_type": "code",
   "execution_count": 7,
   "metadata": {},
   "outputs": [],
   "source": [
    "url = 'https://www.transparencia.gob.sv/institutions/anda/contracts.csv?doc=&institution_id=anda'\n",
    "page = requests.get(url)"
   ]
  },
  {
   "cell_type": "code",
   "execution_count": 13,
   "metadata": {},
   "outputs": [],
   "source": [
    "data = pd.read_csv(io.StringIO(page.content.decode('utf-8')))"
   ]
  },
  {
   "cell_type": "code",
   "execution_count": 15,
   "metadata": {},
   "outputs": [
    {
     "data": {
      "text/plain": [
       "(756, 12)"
      ]
     },
     "execution_count": 15,
     "metadata": {},
     "output_type": "execute_result"
    }
   ],
   "source": [
    "data.shape"
   ]
  },
  {
   "cell_type": "code",
   "execution_count": 16,
   "metadata": {},
   "outputs": [
    {
     "data": {
      "text/plain": [
       "Index(['Institución', 'Objeto', 'Área institucional',\n",
       "       'Código de adquisición o contratación', 'Monto',\n",
       "       'Nombre de la contraparte', 'Características de la contraparte',\n",
       "       'Plazos de cumplimiento', 'Fecha de contrato / orden de compra',\n",
       "       'Forma de contratación', 'Código de contrato / orden de compra',\n",
       "       'URL documento'],\n",
       "      dtype='object')"
      ]
     },
     "execution_count": 16,
     "metadata": {},
     "output_type": "execute_result"
    }
   ],
   "source": [
    "data.columns"
   ]
  },
  {
   "cell_type": "code",
   "execution_count": 22,
   "metadata": {},
   "outputs": [
    {
     "data": {
      "text/plain": [
       "Nombre de la contraparte                                                                  Código de adquisición o contratación             Fecha de contrato / orden de compra\n",
       "3M EL SALVADOR, S.A. de C.V.,                                                             Contrato 168/2011                                2011-12-30                                80919.61\n",
       "A. P. & G. CONSTRUCTORES, S.A. DE C.V.                                                    Contrato 32/2018                                 2018-07-05                               317293.48\n",
       "                                                                                          Contrato 77/2018                                 2019-11-20                               303183.71\n",
       "A.T.C. INTERNATIONAL DE CENTROAMÉRICA, S.A. DE C.V.                                       Contrato 08/2018.                                2018-02-06                               351587.01\n",
       "ACSA, S.A.                                                                                Contrato 02/2011                                 2010-12-29                              4436716.50\n",
       "ACSA, S.A.,                                                                               Contrato 02/2018                                 2018-01-02                              5571596.49\n",
       "ADOC, S.A. DE C.V                                                                         Contrato 102/2017.                               2017-12-15                               234904.65\n",
       "AENOR CENTROAMÉRICA, S.A. DE C.V.                                                         Contrato 782017.                                 2017-10-11                                33787.00\n",
       "AGROCIVILES, S.A DE C.V.                                                                  18/2013                                          2013-05-06                               414783.49\n",
       "AID SOCIAL, S.A. DE C.V.                                                                  Contrato 80/2017.                                2017-11-21                               184257.80\n",
       "ALBA PETRÓLEOS DE C.V.                                                                    Contrato 46/2011                                 2011-06-21                              1155970.00\n",
       "ALPINA, S.A. de C.V.                                                                      Contrato 50/2011                                 2011-06-27                                45654.03\n",
       "ANA MARGARITA PALMA DE HERNÁNDEZ                                                          Contrato 164/2011                                2011-12-30                                50582.37\n",
       "ANALITICA SALVADOREÑA, S.A. DE C.V.                                                       Contrato 12/2017.Licitación Pública 68/2016.     2017-02-13                                44278.37\n",
       "ASFALCA, S.A. DE C.V.                                                                     Contrato 44/2017                                 2017-08-08                               174046.28\n",
       "AUTOMAX, S.A. DE C.V.                                                                     Contrato 79/ 2017.                               2017-10-10                                59800.00\n",
       "B.G.A. S.A. DE C.V.                                                                       Contrato 118/2011                                2011-09-06                               250000.00\n",
       "                                                                                          Contrato 68/2011                                 2011-08-16                               234691.34\n",
       "                                                                                          PRÓRROGA DEL CONTRATO DE SERVICIO No. 118/2011.  2011-12-27                               250000.00\n",
       "BALTAZAR DE JESUS BONILLA BONILLA                                                         Contrato 22/2018                                 2018-06-26                                92153.76\n",
       "BUENCO SOCIEDAD ANÓNIMA DE CAPITAL VARIABLE                                               Contrato 72/2011                                 2011-08-19                                22664.41\n",
       "BUSINESS CENTER, S.A. DE C.V.,                                                            Contrato 65/2018                                 2018-09-05                                21115.91\n",
       "CARICIA S.A. DE C.V.                                                                      Contrato 70/2018                                 2018-09-18                                16000.68\n",
       "CARLOS DAVID ELIAS MOLINA.                                                                Contrato 43/2017.                                2017-07-04                                84750.00\n",
       "CARLOS DENIS RAMÍREZ VENTURA                                                              Contrato 67/2018                                 2018-09-10                               362200.00\n",
       "CARLOS ORLANDO ROMERO CALLES                                                              Contrato 15/2017.                                2017-02-10                                92719.98\n",
       "                                                                                          Contrato 16/2011                                 2011-04-01                                 3470.62\n",
       "CARLOS ORLANDO ROMERO CALLES.                                                             Contrato 09/2017.                                2017-01-27                                52716.02\n",
       "CASA AMA, S.A. DE C.V.                                                                    Contrato 54/2018                                 2018-08-21                               110737.01\n",
       "CEMEX, S.A. DE C.V.                                                                       26/2017                                          2017-04-06                               288576.75\n",
       "                                                                                                                                                                                     ...     \n",
       "SIEF, S.A. DE C.V.                                                                        Contrato 150/2011                                2011-09-29                               169370.67\n",
       "                                                                                          Contrato 160/2011                                2011-12-10                               208720.28\n",
       "                                                                                          Contrato 85/2017.                                2017-11-08                               119844.41\n",
       "                                                                                          Contrato 86/2017.                                2017-11-09                               323446.17\n",
       "                                                                                          Contrato 88/2017.                                2017-11-09                               154068.72\n",
       "SIEMENS ENTERPRISE, S.A.                                                                  Contrato 122/2011                                2011-09-14                                25542.97\n",
       "SISTEMAS HIDRÁULICOS, S.A. DE C.V.                                                        Contrato 136/2011                                2011-09-06                              1691856.41\n",
       "SIVERCON, S.A. DE C.V.                                                                    Contrato 41/2011                                 2011-06-13                              1290641.68\n",
       "                                                                                          Contrato 96/2011                                 2011-08-31                              2798352.46\n",
       "STB COMPUTER, S.A. DE C.V.                                                                Contrato 120/2011                                2011-09-14                               163698.65\n",
       "SUEZ INTERNATIONAL S.A.S.                                                                 Contrato 11/2018                                 2018-02-08                             61528954.63\n",
       "Sociedad ELÍAS & ASOCIADOS                                                                Contrato 52/2011                                 2011-06-29                                20000.00\n",
       "Suministro de materiales eléctricos para las Regiones Metropolitana, Central y Oriental.  Contrato 62/2018                                 2018-08-31                                33220.16\n",
       "TECNOLOGÍA AMBIENTAL, S.A. DE C.V.                                                        Contrato 146/2011                                2011-09-05                                 2000.00\n",
       "                                                                                          Contrato 34/2017.                                2017-06-06                                20905.00\n",
       "                                                                                          Contrato 73/2018                                 2018-09-25                                40680.00\n",
       "TECUNSAL, S.A. DE C.V. o TECUN, S.A. de C.V.                                              Contrato 142/2011                                2011-09-06                               462026.49\n",
       "TELEFONICA MULTISERVICIOS, S.A DE C.V.                                                    Contrato 23/2017.                                2017-01-06                               345554.00\n",
       "TELEFÓNICA MÓVILES CENTROAMERICA, S.A. DE C.V                                             Contrato 01/2011                                 2010-11-30                               122195.00\n",
       "TELESIS, S.A. DE C.V.                                                                     Contrato 52/2017.                                2017-08-25                                54632.29\n",
       "                                                                                          Contrato 83/2017.                                2017-11-28                                52280.83\n",
       "TRANSMERQUIM, S.A. DE C.V.                                                                Contrato 30/2011                                 2011-05-05                                57023.19\n",
       "UDP VE GROUP-COPROSER.                                                                    Contrato 46/2017.                                2017-07-25                               481606.00\n",
       "V & R ARQUITECTOS CONSTRUCTORES, S.A. DE C.V.                                             Contrato 113/2011                                2011-09-06                               357026.38\n",
       "VASES INGENIEROS, S.A. DE C.V.                                                            Contrato 134/2011                                2011-09-19                              1899242.35\n",
       "VASES INGENIEROS, S.A.DE C.V.                                                             117/2013                                         2013-12-27                               936600.32\n",
       "VIDUC, S.A. DE C.V.                                                                       Contrato 144/2011                                2011-09-19                                85109.91\n",
       "                                                                                          Contrato 170/2011                                2011-12-30                                34388.93\n",
       "WINZER, S.A. DE C.V.                                                                      Contrato 06/2017.                                2017-01-10                                21265.87\n",
       "                                                                                          Contrato 19/2017.                                2017-01-16                               314436.21\n",
       "Name: Monto, Length: 280, dtype: float64"
      ]
     },
     "execution_count": 22,
     "metadata": {},
     "output_type": "execute_result"
    }
   ],
   "source": [
    "data.groupby(['Nombre de la contraparte', 'Código de adquisición o contratación', 'Fecha de contrato / orden de compra']) \\\n",
    "    .sum()['Monto']"
   ]
  },
  {
   "cell_type": "code",
   "execution_count": null,
   "metadata": {},
   "outputs": [],
   "source": []
  }
 ],
 "metadata": {
  "kernelspec": {
   "display_name": "Python 3",
   "language": "python",
   "name": "python3"
  },
  "language_info": {
   "codemirror_mode": {
    "name": "ipython",
    "version": 3
   },
   "file_extension": ".py",
   "mimetype": "text/x-python",
   "name": "python",
   "nbconvert_exporter": "python",
   "pygments_lexer": "ipython3",
   "version": "3.7.3"
  }
 },
 "nbformat": 4,
 "nbformat_minor": 2
}
