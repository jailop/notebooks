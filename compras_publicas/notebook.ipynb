{
 "cells": [
  {
   "cell_type": "markdown",
   "metadata": {},
   "source": [
    "## Contratistas sancionados"
   ]
  },
  {
   "cell_type": "code",
   "execution_count": 2,
   "metadata": {},
   "outputs": [],
   "source": [
    "import pandas as pd"
   ]
  },
  {
   "cell_type": "code",
   "execution_count": 3,
   "metadata": {},
   "outputs": [],
   "source": [
    "sanciones = pd.read_csv('datasets/compras-publicas/sanciones.csv')"
   ]
  },
  {
   "cell_type": "code",
   "execution_count": 7,
   "metadata": {},
   "outputs": [
    {
     "data": {
      "text/html": [
       "<div>\n",
       "<style scoped>\n",
       "    .dataframe tbody tr th:only-of-type {\n",
       "        vertical-align: middle;\n",
       "    }\n",
       "\n",
       "    .dataframe tbody tr th {\n",
       "        vertical-align: top;\n",
       "    }\n",
       "\n",
       "    .dataframe thead th {\n",
       "        text-align: right;\n",
       "    }\n",
       "</style>\n",
       "<table border=\"1\" class=\"dataframe\">\n",
       "  <thead>\n",
       "    <tr style=\"text-align: right;\">\n",
       "      <th></th>\n",
       "      <th>Contratista no historico</th>\n",
       "      <th>Institución que sanciona</th>\n",
       "      <th>Fecha de inicio</th>\n",
       "      <th>Fecha de finalización</th>\n",
       "      <th>Período de inhabilitación</th>\n",
       "      <th>Días para finalizar sanción</th>\n",
       "    </tr>\n",
       "  </thead>\n",
       "  <tbody>\n",
       "    <tr>\n",
       "      <th>0</th>\n",
       "      <td>ACTIVE SYSTEMS SERVICES, S.A. DE C.V.</td>\n",
       "      <td>Secretaría Técnica de la Presidencia</td>\n",
       "      <td>24/07/2017</td>\n",
       "      <td>23/07/2019</td>\n",
       "      <td>2  aÃ±os</td>\n",
       "      <td>148</td>\n",
       "    </tr>\n",
       "    <tr>\n",
       "      <th>1</th>\n",
       "      <td>ADAN ENRIQUE RIVAS LARA</td>\n",
       "      <td>Fondo de Inversión Social para el Desarrollo L...</td>\n",
       "      <td>13/04/2018</td>\n",
       "      <td>12/04/2023</td>\n",
       "      <td>5  aÃ±os</td>\n",
       "      <td>1507</td>\n",
       "    </tr>\n",
       "    <tr>\n",
       "      <th>2</th>\n",
       "      <td>AGDYSA, S.A. DE C.V.</td>\n",
       "      <td>Instituto Salvadoreño de Rehabilitación Integr...</td>\n",
       "      <td>21/03/2018</td>\n",
       "      <td>20/03/2020</td>\n",
       "      <td>2  aÃ±os</td>\n",
       "      <td>389</td>\n",
       "    </tr>\n",
       "    <tr>\n",
       "      <th>3</th>\n",
       "      <td>AQUASZ, S.A. DE C.V.</td>\n",
       "      <td>Policía Nacional Civil (PNC)</td>\n",
       "      <td>04/05/2018</td>\n",
       "      <td>03/05/2020</td>\n",
       "      <td>2  aÃ±os</td>\n",
       "      <td>433</td>\n",
       "    </tr>\n",
       "    <tr>\n",
       "      <th>4</th>\n",
       "      <td>ASOCIACION PARA EL DESARROLLO DE LA CULTURA, L...</td>\n",
       "      <td>Instituto Salvadoreño de Formación Profesional...</td>\n",
       "      <td>14/04/2015</td>\n",
       "      <td>13/01/2021</td>\n",
       "      <td>5  aÃ±os</td>\n",
       "      <td>688</td>\n",
       "    </tr>\n",
       "  </tbody>\n",
       "</table>\n",
       "</div>"
      ],
      "text/plain": [
       "                            Contratista no historico  \\\n",
       "0             ACTIVE SYSTEMS SERVICES, S.A. DE C.V.    \n",
       "1                            ADAN ENRIQUE RIVAS LARA   \n",
       "2                               AGDYSA, S.A. DE C.V.   \n",
       "3                               AQUASZ, S.A. DE C.V.   \n",
       "4  ASOCIACION PARA EL DESARROLLO DE LA CULTURA, L...   \n",
       "\n",
       "                            Institución que sanciona Fecha de inicio  \\\n",
       "0               Secretaría Técnica de la Presidencia      24/07/2017   \n",
       "1  Fondo de Inversión Social para el Desarrollo L...      13/04/2018   \n",
       "2  Instituto Salvadoreño de Rehabilitación Integr...      21/03/2018   \n",
       "3                       Policía Nacional Civil (PNC)      04/05/2018   \n",
       "4  Instituto Salvadoreño de Formación Profesional...      14/04/2015   \n",
       "\n",
       "  Fecha de finalización Período de inhabilitación  Días para finalizar sanción  \n",
       "0            23/07/2019                  2  aÃ±os                          148  \n",
       "1            12/04/2023                  5  aÃ±os                         1507  \n",
       "2            20/03/2020                  2  aÃ±os                          389  \n",
       "3            03/05/2020                  2  aÃ±os                          433  \n",
       "4            13/01/2021                  5  aÃ±os                          688  "
      ]
     },
     "execution_count": 7,
     "metadata": {},
     "output_type": "execute_result"
    }
   ],
   "source": [
    "sanciones.head()"
   ]
  },
  {
   "cell_type": "code",
   "execution_count": null,
   "metadata": {},
   "outputs": [],
   "source": []
  }
 ],
 "metadata": {
  "kernelspec": {
   "display_name": "Python 3",
   "language": "python",
   "name": "python3"
  },
  "language_info": {
   "codemirror_mode": {
    "name": "ipython",
    "version": 3
   },
   "file_extension": ".py",
   "mimetype": "text/x-python",
   "name": "python",
   "nbconvert_exporter": "python",
   "pygments_lexer": "ipython3",
   "version": "3.7.2"
  }
 },
 "nbformat": 4,
 "nbformat_minor": 2
}
