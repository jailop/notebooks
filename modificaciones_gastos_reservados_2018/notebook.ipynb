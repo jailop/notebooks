{
  "nbformat": 4,
  "nbformat_minor": 0,
  "metadata": {
    "colab": {
      "name": "mod_gastos_reservados_presidencia_2018.ipynb",
      "version": "0.3.2",
      "provenance": [],
      "include_colab_link": true
    },
    "kernelspec": {
      "name": "python3",
      "display_name": "Python 3"
    }
  },
  "cells": [
    {
      "cell_type": "markdown",
      "metadata": {
        "id": "view-in-github",
        "colab_type": "text"
      },
      "source": [
        "<a href=\"https://colab.research.google.com/github/jailop/notebooks/blob/master/modificaciones_gastos_reservados_2018/notebook.ipynb\" target=\"_parent\"><img src=\"https://colab.research.google.com/assets/colab-badge.svg\" alt=\"Open In Colab\"/></a>"
      ]
    },
    {
      "metadata": {
        "id": "Vs-vMOepy-lx",
        "colab_type": "text"
      },
      "cell_type": "markdown",
      "source": [
        "# Modificaciones presupuestarias para gastos reservados de la Presidencia.\n",
        "\n",
        "Marzo de 2019\n",
        "\n",
        "En este notebook se analizan las modificaciones presupuestarias relacionadas con la partida de gastos reservados de la Presidencia de la República que fueron realizadas al final del ejercicio fiscal 2018.\n",
        "\n",
        "La información fuente corresponde a una base de datos proporcionada por el Ministerio de Hacienda en la que están registrados a nivel de objeto específico de gastos las modificaciones hechas al Presupuesto del ejercicio fiscal 2018.\n",
        "\n",
        "Referencias:\n",
        "\n",
        "- [Expediente de la solicitud de información de las modificaciones del Presupuesto 2018](https://alac.funde.org/requests/5c4b51a120d8e75a955c8be3)"
      ]
    },
    {
      "metadata": {
        "id": "zA1BfHJT2RlY",
        "colab_type": "text"
      },
      "cell_type": "markdown",
      "source": [
        "## 1. Explorando el dataset\n",
        "\n",
        "En esta sección se hace una revisión general del dataset, para saber su tamaño y los atributos que lo conforman."
      ]
    },
    {
      "metadata": {
        "id": "7EHe1xhhy92G",
        "colab_type": "code",
        "colab": {}
      },
      "cell_type": "code",
      "source": [
        "# Loading libraries\n",
        "import pandas as pd"
      ],
      "execution_count": 0,
      "outputs": []
    },
    {
      "metadata": {
        "id": "MBGNISqqzDZ4",
        "colab_type": "code",
        "colab": {}
      },
      "cell_type": "code",
      "source": [
        "# Loading dataset from Internet and making a local copy\n",
        "url = 'https://alac.funde.org/docs/5c6346ac3b775031c2865e9c'\n",
        "data = pd.read_excel(url)\n",
        "data.to_csv('modificaciones_presupuestarias_2018.csv', index=False)"
      ],
      "execution_count": 0,
      "outputs": []
    },
    {
      "metadata": {
        "id": "VF47GjvA2pS3",
        "colab_type": "code",
        "colab": {}
      },
      "cell_type": "code",
      "source": [
        "# Restoring from local copy\n",
        "data = pd.read_csv('modificaciones_presupuestarias_2018.csv')"
      ],
      "execution_count": 0,
      "outputs": []
    },
    {
      "metadata": {
        "id": "dEf0SxwT2Mkl",
        "colab_type": "code",
        "outputId": "b468a2d7-0496-47dc-b515-1f2149fd9f2e",
        "colab": {
          "base_uri": "https://localhost:8080/",
          "height": 127
        }
      },
      "cell_type": "code",
      "source": [
        "# Getting attribute names\n",
        "data.columns"
      ],
      "execution_count": 0,
      "outputs": [
        {
          "output_type": "execute_result",
          "data": {
            "text/plain": [
              "Index(['EJERCICIO', 'INSTITUCION', 'NOMB_INST', 'AREA_GESTIO',\n",
              "       'NOMB_AREA_GEST', 'FUENTE_FINANC', 'NOMB_FUEN_FINA', 'CLASIF_PRESUP',\n",
              "       'NOMB_CLAS_PRES', 'MONTO', 'CLAECO', 'NOMB_CLAS_ECON',\n",
              "       'TIPO_AFEC_AJUS_PEP', 'AFECTACION', 'ACUERD_EJECUT', 'FECH_ACUE_EJEC',\n",
              "       'DECRET_LEGISL', 'FECH_DECR_LEGI'],\n",
              "      dtype='object')"
            ]
          },
          "metadata": {
            "tags": []
          },
          "execution_count": 6
        }
      ]
    },
    {
      "metadata": {
        "id": "372hFrWE2ZLE",
        "colab_type": "code",
        "outputId": "475e25ec-4bbf-4ef2-8903-fba20525c3bc",
        "colab": {
          "base_uri": "https://localhost:8080/",
          "height": 35
        }
      },
      "cell_type": "code",
      "source": [
        "# Getting number of rows and columns\n",
        "data.shape"
      ],
      "execution_count": 0,
      "outputs": [
        {
          "output_type": "execute_result",
          "data": {
            "text/plain": [
              "(8865, 18)"
            ]
          },
          "metadata": {
            "tags": []
          },
          "execution_count": 7
        }
      ]
    },
    {
      "metadata": {
        "id": "YHM1xujB209q",
        "colab_type": "code",
        "outputId": "c7e24a1a-e982-4546-d742-f7b7073f09cb",
        "colab": {
          "base_uri": "https://localhost:8080/",
          "height": 313
        }
      },
      "cell_type": "code",
      "source": [
        "# Checking head dataset\n",
        "data.head()"
      ],
      "execution_count": 0,
      "outputs": [
        {
          "output_type": "execute_result",
          "data": {
            "text/html": [
              "<div>\n",
              "<style scoped>\n",
              "    .dataframe tbody tr th:only-of-type {\n",
              "        vertical-align: middle;\n",
              "    }\n",
              "\n",
              "    .dataframe tbody tr th {\n",
              "        vertical-align: top;\n",
              "    }\n",
              "\n",
              "    .dataframe thead th {\n",
              "        text-align: right;\n",
              "    }\n",
              "</style>\n",
              "<table border=\"1\" class=\"dataframe\">\n",
              "  <thead>\n",
              "    <tr style=\"text-align: right;\">\n",
              "      <th></th>\n",
              "      <th>EJERCICIO</th>\n",
              "      <th>INSTITUCION</th>\n",
              "      <th>NOMB_INST</th>\n",
              "      <th>AREA_GESTIO</th>\n",
              "      <th>NOMB_AREA_GEST</th>\n",
              "      <th>FUENTE_FINANC</th>\n",
              "      <th>NOMB_FUEN_FINA</th>\n",
              "      <th>CLASIF_PRESUP</th>\n",
              "      <th>NOMB_CLAS_PRES</th>\n",
              "      <th>MONTO</th>\n",
              "      <th>CLAECO</th>\n",
              "      <th>NOMB_CLAS_ECON</th>\n",
              "      <th>TIPO_AFEC_AJUS_PEP</th>\n",
              "      <th>AFECTACION</th>\n",
              "      <th>ACUERD_EJECUT</th>\n",
              "      <th>FECH_ACUE_EJEC</th>\n",
              "      <th>DECRET_LEGISL</th>\n",
              "      <th>FECH_DECR_LEGI</th>\n",
              "    </tr>\n",
              "  </thead>\n",
              "  <tbody>\n",
              "    <tr>\n",
              "      <th>0</th>\n",
              "      <td>2018</td>\n",
              "      <td>100</td>\n",
              "      <td>Organo Legislativo</td>\n",
              "      <td>1</td>\n",
              "      <td>Conducción Administrativa</td>\n",
              "      <td>1</td>\n",
              "      <td>Fondo General</td>\n",
              "      <td>51107</td>\n",
              "      <td>Beneficios Adicionales</td>\n",
              "      <td>1800000.0</td>\n",
              "      <td>2111</td>\n",
              "      <td>Remuneraciones</td>\n",
              "      <td>1</td>\n",
              "      <td>Disminución</td>\n",
              "      <td>3097.0</td>\n",
              "      <td>27/02/18</td>\n",
              "      <td>NaN</td>\n",
              "      <td>NaN</td>\n",
              "    </tr>\n",
              "    <tr>\n",
              "      <th>1</th>\n",
              "      <td>2018</td>\n",
              "      <td>100</td>\n",
              "      <td>Organo Legislativo</td>\n",
              "      <td>1</td>\n",
              "      <td>Conducción Administrativa</td>\n",
              "      <td>1</td>\n",
              "      <td>Fondo General</td>\n",
              "      <td>51207</td>\n",
              "      <td>Beneficios Adicionales</td>\n",
              "      <td>1020000.0</td>\n",
              "      <td>2111</td>\n",
              "      <td>Remuneraciones</td>\n",
              "      <td>1</td>\n",
              "      <td>Disminución</td>\n",
              "      <td>3097.0</td>\n",
              "      <td>27/02/18</td>\n",
              "      <td>NaN</td>\n",
              "      <td>NaN</td>\n",
              "    </tr>\n",
              "    <tr>\n",
              "      <th>2</th>\n",
              "      <td>2018</td>\n",
              "      <td>100</td>\n",
              "      <td>Organo Legislativo</td>\n",
              "      <td>1</td>\n",
              "      <td>Conducción Administrativa</td>\n",
              "      <td>1</td>\n",
              "      <td>Fondo General</td>\n",
              "      <td>51201</td>\n",
              "      <td>Sueldos</td>\n",
              "      <td>282520.0</td>\n",
              "      <td>2111</td>\n",
              "      <td>Remuneraciones</td>\n",
              "      <td>2</td>\n",
              "      <td>Aumento</td>\n",
              "      <td>3097.0</td>\n",
              "      <td>27/02/18</td>\n",
              "      <td>NaN</td>\n",
              "      <td>NaN</td>\n",
              "    </tr>\n",
              "    <tr>\n",
              "      <th>3</th>\n",
              "      <td>2018</td>\n",
              "      <td>100</td>\n",
              "      <td>Organo Legislativo</td>\n",
              "      <td>1</td>\n",
              "      <td>Conducción Administrativa</td>\n",
              "      <td>1</td>\n",
              "      <td>Fondo General</td>\n",
              "      <td>51201</td>\n",
              "      <td>Sueldos</td>\n",
              "      <td>320525.0</td>\n",
              "      <td>2111</td>\n",
              "      <td>Remuneraciones</td>\n",
              "      <td>2</td>\n",
              "      <td>Aumento</td>\n",
              "      <td>3097.0</td>\n",
              "      <td>27/02/18</td>\n",
              "      <td>NaN</td>\n",
              "      <td>NaN</td>\n",
              "    </tr>\n",
              "    <tr>\n",
              "      <th>4</th>\n",
              "      <td>2018</td>\n",
              "      <td>100</td>\n",
              "      <td>Organo Legislativo</td>\n",
              "      <td>1</td>\n",
              "      <td>Conducción Administrativa</td>\n",
              "      <td>1</td>\n",
              "      <td>Fondo General</td>\n",
              "      <td>51201</td>\n",
              "      <td>Sueldos</td>\n",
              "      <td>320525.0</td>\n",
              "      <td>2111</td>\n",
              "      <td>Remuneraciones</td>\n",
              "      <td>2</td>\n",
              "      <td>Aumento</td>\n",
              "      <td>3097.0</td>\n",
              "      <td>27/02/18</td>\n",
              "      <td>NaN</td>\n",
              "      <td>NaN</td>\n",
              "    </tr>\n",
              "  </tbody>\n",
              "</table>\n",
              "</div>"
            ],
            "text/plain": [
              "   EJERCICIO  INSTITUCION           NOMB_INST  AREA_GESTIO  \\\n",
              "0       2018          100  Organo Legislativo            1   \n",
              "1       2018          100  Organo Legislativo            1   \n",
              "2       2018          100  Organo Legislativo            1   \n",
              "3       2018          100  Organo Legislativo            1   \n",
              "4       2018          100  Organo Legislativo            1   \n",
              "\n",
              "              NOMB_AREA_GEST  FUENTE_FINANC NOMB_FUEN_FINA  CLASIF_PRESUP  \\\n",
              "0  Conducción Administrativa              1  Fondo General          51107   \n",
              "1  Conducción Administrativa              1  Fondo General          51207   \n",
              "2  Conducción Administrativa              1  Fondo General          51201   \n",
              "3  Conducción Administrativa              1  Fondo General          51201   \n",
              "4  Conducción Administrativa              1  Fondo General          51201   \n",
              "\n",
              "           NOMB_CLAS_PRES      MONTO  CLAECO  NOMB_CLAS_ECON  \\\n",
              "0  Beneficios Adicionales  1800000.0    2111  Remuneraciones   \n",
              "1  Beneficios Adicionales  1020000.0    2111  Remuneraciones   \n",
              "2                 Sueldos   282520.0    2111  Remuneraciones   \n",
              "3                 Sueldos   320525.0    2111  Remuneraciones   \n",
              "4                 Sueldos   320525.0    2111  Remuneraciones   \n",
              "\n",
              "   TIPO_AFEC_AJUS_PEP   AFECTACION  ACUERD_EJECUT FECH_ACUE_EJEC  \\\n",
              "0                   1  Disminución         3097.0       27/02/18   \n",
              "1                   1  Disminución         3097.0       27/02/18   \n",
              "2                   2      Aumento         3097.0       27/02/18   \n",
              "3                   2      Aumento         3097.0       27/02/18   \n",
              "4                   2      Aumento         3097.0       27/02/18   \n",
              "\n",
              "   DECRET_LEGISL FECH_DECR_LEGI  \n",
              "0            NaN            NaN  \n",
              "1            NaN            NaN  \n",
              "2            NaN            NaN  \n",
              "3            NaN            NaN  \n",
              "4            NaN            NaN  "
            ]
          },
          "metadata": {
            "tags": []
          },
          "execution_count": 8
        }
      ]
    },
    {
      "metadata": {
        "id": "oPFktBZW5eee",
        "colab_type": "text"
      },
      "cell_type": "markdown",
      "source": [
        "El dataset de las modificaciones presupuestarias de 2018 contiene más de 8 mil registros y 18 atributos, entre ellos los referidos a la institución, la clasificación presupuestarias, el monto y las referencias de los documentos de soporte."
      ]
    },
    {
      "metadata": {
        "id": "NCbQS7Ht7g0m",
        "colab_type": "code",
        "colab": {}
      },
      "cell_type": "code",
      "source": [
        "# Adjusting sign based on kind of affectation\n",
        "data['MONTO'] = data['MONTO'] * data['AFECTACION'].apply(lambda x: 1 if x == 'Aumento' else -1)"
      ],
      "execution_count": 0,
      "outputs": []
    },
    {
      "metadata": {
        "id": "ppuTFurW5_Co",
        "colab_type": "text"
      },
      "cell_type": "markdown",
      "source": [
        "## 2. Modificaciones de gastos reservados\n",
        "\n",
        "En esta sección se identifican las modificaciones que corresponden a la partida de gastos reservados."
      ]
    },
    {
      "metadata": {
        "id": "5A3nEeTt242v",
        "colab_type": "code",
        "colab": {}
      },
      "cell_type": "code",
      "source": [
        "# Filtering records for code 54315\n",
        "secret_expenses = data[data['CLASIF_PRESUP'] == 54315]"
      ],
      "execution_count": 0,
      "outputs": []
    },
    {
      "metadata": {
        "id": "y-ddfzop6agW",
        "colab_type": "code",
        "outputId": "79c7b552-8b70-4e62-c94d-1d7887cd99bf",
        "colab": {
          "base_uri": "https://localhost:8080/",
          "height": 334
        }
      },
      "cell_type": "code",
      "source": [
        "secret_expenses"
      ],
      "execution_count": 0,
      "outputs": [
        {
          "output_type": "execute_result",
          "data": {
            "text/html": [
              "<div>\n",
              "<style scoped>\n",
              "    .dataframe tbody tr th:only-of-type {\n",
              "        vertical-align: middle;\n",
              "    }\n",
              "\n",
              "    .dataframe tbody tr th {\n",
              "        vertical-align: top;\n",
              "    }\n",
              "\n",
              "    .dataframe thead th {\n",
              "        text-align: right;\n",
              "    }\n",
              "</style>\n",
              "<table border=\"1\" class=\"dataframe\">\n",
              "  <thead>\n",
              "    <tr style=\"text-align: right;\">\n",
              "      <th></th>\n",
              "      <th>EJERCICIO</th>\n",
              "      <th>INSTITUCION</th>\n",
              "      <th>NOMB_INST</th>\n",
              "      <th>AREA_GESTIO</th>\n",
              "      <th>NOMB_AREA_GEST</th>\n",
              "      <th>FUENTE_FINANC</th>\n",
              "      <th>NOMB_FUEN_FINA</th>\n",
              "      <th>CLASIF_PRESUP</th>\n",
              "      <th>NOMB_CLAS_PRES</th>\n",
              "      <th>MONTO</th>\n",
              "      <th>CLAECO</th>\n",
              "      <th>NOMB_CLAS_ECON</th>\n",
              "      <th>TIPO_AFEC_AJUS_PEP</th>\n",
              "      <th>AFECTACION</th>\n",
              "      <th>ACUERD_EJECUT</th>\n",
              "      <th>FECH_ACUE_EJEC</th>\n",
              "      <th>DECRET_LEGISL</th>\n",
              "      <th>FECH_DECR_LEGI</th>\n",
              "    </tr>\n",
              "  </thead>\n",
              "  <tbody>\n",
              "    <tr>\n",
              "      <th>145</th>\n",
              "      <td>2018</td>\n",
              "      <td>500</td>\n",
              "      <td>Presidencia de la República</td>\n",
              "      <td>1</td>\n",
              "      <td>Conducción Administrativa</td>\n",
              "      <td>1</td>\n",
              "      <td>Fondo General</td>\n",
              "      <td>54315</td>\n",
              "      <td>Gastos Reservados</td>\n",
              "      <td>544434.0</td>\n",
              "      <td>2112</td>\n",
              "      <td>Bienes y Servicios</td>\n",
              "      <td>2</td>\n",
              "      <td>Aumento</td>\n",
              "      <td>2009.0</td>\n",
              "      <td>21/12/18</td>\n",
              "      <td>NaN</td>\n",
              "      <td>NaN</td>\n",
              "    </tr>\n",
              "    <tr>\n",
              "      <th>282</th>\n",
              "      <td>2018</td>\n",
              "      <td>500</td>\n",
              "      <td>Presidencia de la República</td>\n",
              "      <td>1</td>\n",
              "      <td>Conducción Administrativa</td>\n",
              "      <td>1</td>\n",
              "      <td>Fondo General</td>\n",
              "      <td>54315</td>\n",
              "      <td>Gastos Reservados</td>\n",
              "      <td>5764503.0</td>\n",
              "      <td>2112</td>\n",
              "      <td>Bienes y Servicios</td>\n",
              "      <td>2</td>\n",
              "      <td>Aumento</td>\n",
              "      <td>1990.0</td>\n",
              "      <td>21/12/18</td>\n",
              "      <td>NaN</td>\n",
              "      <td>NaN</td>\n",
              "    </tr>\n",
              "    <tr>\n",
              "      <th>283</th>\n",
              "      <td>2018</td>\n",
              "      <td>500</td>\n",
              "      <td>Presidencia de la República</td>\n",
              "      <td>1</td>\n",
              "      <td>Conducción Administrativa</td>\n",
              "      <td>1</td>\n",
              "      <td>Fondo General</td>\n",
              "      <td>54315</td>\n",
              "      <td>Gastos Reservados</td>\n",
              "      <td>800000.0</td>\n",
              "      <td>2112</td>\n",
              "      <td>Bienes y Servicios</td>\n",
              "      <td>2</td>\n",
              "      <td>Aumento</td>\n",
              "      <td>1844.0</td>\n",
              "      <td>05/12/18</td>\n",
              "      <td>NaN</td>\n",
              "      <td>NaN</td>\n",
              "    </tr>\n",
              "    <tr>\n",
              "      <th>284</th>\n",
              "      <td>2018</td>\n",
              "      <td>500</td>\n",
              "      <td>Presidencia de la República</td>\n",
              "      <td>1</td>\n",
              "      <td>Conducción Administrativa</td>\n",
              "      <td>1</td>\n",
              "      <td>Fondo General</td>\n",
              "      <td>54315</td>\n",
              "      <td>Gastos Reservados</td>\n",
              "      <td>3567675.0</td>\n",
              "      <td>2112</td>\n",
              "      <td>Bienes y Servicios</td>\n",
              "      <td>2</td>\n",
              "      <td>Aumento</td>\n",
              "      <td>1929.0</td>\n",
              "      <td>13/12/18</td>\n",
              "      <td>NaN</td>\n",
              "      <td>NaN</td>\n",
              "    </tr>\n",
              "  </tbody>\n",
              "</table>\n",
              "</div>"
            ],
            "text/plain": [
              "     EJERCICIO  INSTITUCION                    NOMB_INST  AREA_GESTIO  \\\n",
              "145       2018          500  Presidencia de la República            1   \n",
              "282       2018          500  Presidencia de la República            1   \n",
              "283       2018          500  Presidencia de la República            1   \n",
              "284       2018          500  Presidencia de la República            1   \n",
              "\n",
              "                NOMB_AREA_GEST  FUENTE_FINANC NOMB_FUEN_FINA  CLASIF_PRESUP  \\\n",
              "145  Conducción Administrativa              1  Fondo General          54315   \n",
              "282  Conducción Administrativa              1  Fondo General          54315   \n",
              "283  Conducción Administrativa              1  Fondo General          54315   \n",
              "284  Conducción Administrativa              1  Fondo General          54315   \n",
              "\n",
              "        NOMB_CLAS_PRES      MONTO  CLAECO      NOMB_CLAS_ECON  \\\n",
              "145  Gastos Reservados   544434.0    2112  Bienes y Servicios   \n",
              "282  Gastos Reservados  5764503.0    2112  Bienes y Servicios   \n",
              "283  Gastos Reservados   800000.0    2112  Bienes y Servicios   \n",
              "284  Gastos Reservados  3567675.0    2112  Bienes y Servicios   \n",
              "\n",
              "     TIPO_AFEC_AJUS_PEP AFECTACION  ACUERD_EJECUT FECH_ACUE_EJEC  \\\n",
              "145                   2    Aumento         2009.0       21/12/18   \n",
              "282                   2    Aumento         1990.0       21/12/18   \n",
              "283                   2    Aumento         1844.0       05/12/18   \n",
              "284                   2    Aumento         1929.0       13/12/18   \n",
              "\n",
              "     DECRET_LEGISL FECH_DECR_LEGI  \n",
              "145            NaN            NaN  \n",
              "282            NaN            NaN  \n",
              "283            NaN            NaN  \n",
              "284            NaN            NaN  "
            ]
          },
          "metadata": {
            "tags": []
          },
          "execution_count": 18
        }
      ]
    },
    {
      "metadata": {
        "id": "c4Yv0sZT68p3",
        "colab_type": "text"
      },
      "cell_type": "markdown",
      "source": [
        "Durante el año 2018 se hiceron 4 modificaciones presupuestarias relacionadas con el objeto específico 54315 - Gastos reservados. Todas corresponden a la Presidencia de la República."
      ]
    },
    {
      "metadata": {
        "id": "z_0QfTOr6cZb",
        "colab_type": "code",
        "outputId": "743cebec-1ebe-4b0b-d951-09ef4e063d78",
        "colab": {
          "base_uri": "https://localhost:8080/",
          "height": 127
        }
      },
      "cell_type": "code",
      "source": [
        "resolutions = secret_expenses.groupby(['ACUERD_EJECUT', 'FECH_ACUE_EJEC']).sum()['MONTO']\n",
        "resolutions"
      ],
      "execution_count": 0,
      "outputs": [
        {
          "output_type": "execute_result",
          "data": {
            "text/plain": [
              "ACUERD_EJECUT  FECH_ACUE_EJEC\n",
              "1844.0         05/12/18           800000.0\n",
              "1929.0         13/12/18          3567675.0\n",
              "1990.0         21/12/18          5764503.0\n",
              "2009.0         21/12/18           544434.0\n",
              "Name: MONTO, dtype: float64"
            ]
          },
          "metadata": {
            "tags": []
          },
          "execution_count": 21
        }
      ]
    },
    {
      "metadata": {
        "id": "R1kRjWj288UA",
        "colab_type": "text"
      },
      "cell_type": "markdown",
      "source": [
        "Se observa que las modificaciones relacionadas con la partida de gastos reservados de la Presidencia fueron autorizadas por medio de cuatro acuerdos ejecutivos emitidos durante diciembre de 2018. Al tener estos datos se procedió a solicitar al Ministerio de Hacienda la copia de dichos acuerdos. Los enlaces a los mismos se incluyen a continuación:\n",
        "\n",
        "- [Acuerdo No. 1844 de Dic. 05, 2018](https://alac.funde.org/docs/5c8038da3b775031c287f990)\n",
        "- [Acuerdo No. 1929 de Dic 13, 2018](https://alac.funde.org/docs/5c80390f3b775031c287f9a6)\n",
        "- [Acuerdo No. 1990 de Dic. 21, 2018](https://alac.funde.org/docs/5c8038b93b775031c287f97b)\n",
        "- [Acuerdo No. 2009 de Dic. 21, 2018](https://alac.funde.org/docs/5c80389d3b775031c287f967)\n",
        "\n",
        "Referencias:\n",
        "\n",
        "- [Expediente de la solicitud de información de los acuerdos](https://alac.funde.org/requests/5c756f1c3b775031c2875516)"
      ]
    },
    {
      "metadata": {
        "id": "z0PseQbWf9PE",
        "colab_type": "code",
        "outputId": "7a90e62e-a92b-48b0-e5bc-1356a0f5ccdf",
        "colab": {
          "base_uri": "https://localhost:8080/",
          "height": 35
        }
      },
      "cell_type": "code",
      "source": [
        "resolutions.sum() / 1e6"
      ],
      "execution_count": 0,
      "outputs": [
        {
          "output_type": "execute_result",
          "data": {
            "text/plain": [
              "10.676612"
            ]
          },
          "metadata": {
            "tags": []
          },
          "execution_count": 65
        }
      ]
    },
    {
      "metadata": {
        "id": "mxyunHTQgHiY",
        "colab_type": "text"
      },
      "cell_type": "markdown",
      "source": [
        "En total se hicieron modificaciones por USD 10.7 millones."
      ]
    },
    {
      "metadata": {
        "id": "2CX-qPx1-hlU",
        "colab_type": "text"
      },
      "cell_type": "markdown",
      "source": [
        "## 3. Partidas de origen de las modificaciones\n",
        "\n",
        "Con base en los números de acuerdos se identifican el resto de partidas que fueron afectadas en las modificaciones de los gastos reservados."
      ]
    },
    {
      "metadata": {
        "id": "TkOUpZXL_8nx",
        "colab_type": "code",
        "colab": {}
      },
      "cell_type": "code",
      "source": [
        "# Getting resolution numbers\n",
        "resolution_refs = set(resolutions.reset_index()['ACUERD_EJECUT'])\n",
        "# Filtering for records in resolutions\n",
        "modif = data[data['ACUERD_EJECUT'].apply(lambda x: x in resolution_refs)]"
      ],
      "execution_count": 0,
      "outputs": []
    },
    {
      "metadata": {
        "id": "YiDVaC3WAX16",
        "colab_type": "code",
        "outputId": "ab0874d2-9caa-43c2-9225-17af4b3694e5",
        "colab": {
          "base_uri": "https://localhost:8080/",
          "height": 1174
        }
      },
      "cell_type": "code",
      "source": [
        "by_resolution = modif.groupby(['ACUERD_EJECUT', 'CLASIF_PRESUP', 'NOMB_CLAS_PRES']).sum()['MONTO']\n",
        "by_resolution.to_csv('modificaciones_por_acuerdo.csv', index=False)\n",
        "by_resolution"
      ],
      "execution_count": 0,
      "outputs": [
        {
          "output_type": "execute_result",
          "data": {
            "text/plain": [
              "ACUERD_EJECUT  CLASIF_PRESUP  NOMB_CLAS_PRES                                   \n",
              "1844.0         51101          Sueldos                                              -531149.98\n",
              "               51201          Sueldos                                              -150577.43\n",
              "               51401          Por Remuneraciones Permanentes                        -41909.22\n",
              "               51402          Por Remuneraciones Eventuales                          -6364.04\n",
              "               51501          Por Remuneraciones Permanentes                        -29889.40\n",
              "               51502          Por Remuneraciones Eventuales                          -9031.17\n",
              "               51701          Al Personal de Servicios Permanentes                  -28548.60\n",
              "               51702          Al Personal de Servicios Eventuales                    -2455.69\n",
              "               51999          Remuneraciones Diversas                                  -74.47\n",
              "               54315          Gastos Reservados                                     800000.00\n",
              "1929.0         54305          Servicios de Publicidad                             -3567675.00\n",
              "               54315          Gastos Reservados                                    3567675.00\n",
              "1990.0         51101          Sueldos                                              -357509.94\n",
              "               51103          Aguinaldos                                            -35049.60\n",
              "               51201          Sueldos                                              -134339.06\n",
              "               51203          Aguinaldos                                             -8387.50\n",
              "               51401          Por Remuneraciones Permanentes                        -40692.02\n",
              "               51402          Por Remuneraciones Eventuales                          -9980.80\n",
              "               51501          Por Remuneraciones Permanentes                        -16626.80\n",
              "               51502          Por Remuneraciones Eventuales                          -6704.34\n",
              "               51701          Al Personal de Servicios Permanentes                  -33175.63\n",
              "               51702          Al Personal de Servicios Eventuales                     -614.31\n",
              "               51999          Remuneraciones Diversas                                -1759.00\n",
              "               54101          Productos Alimenticios para Personas                  -60695.68\n",
              "               54103          Productos Agropecuarios y Forestales                  -27704.99\n",
              "               54104          Productos Textiles y Vestuarios                       -34144.20\n",
              "               54105          Productos de Papel y Cartón                           -57884.77\n",
              "               54106          Productos de Cuero y Caucho                           -18450.28\n",
              "               54107          Productos Químicos                                     -8378.11\n",
              "               54108          Productos Farmacéuticos y Medicinales                 -60375.17\n",
              "                                                                                      ...    \n",
              "               54403          Viáticos por Comisión Interna                         -30527.62\n",
              "               54404          Viáticos por Comisión Externa                         -31697.93\n",
              "               54501          Servicios Médicos                                     -18441.04\n",
              "               54503          Servicios Jurídicos                                    -1700.00\n",
              "               54505          Servicios de Capacitación                            -107325.00\n",
              "               54508          Estudios e Investigaciones                            -25000.00\n",
              "               54599          Consultorías, Estudios e Investigaciones Diversas    -307417.70\n",
              "               55599          Impuestos, Tasas y Derechos Diversos                  -36061.10\n",
              "               55601          Primas y Gastos de Seguros de Personas                -19215.82\n",
              "               55602          Primas y Gastos de Seguros de Bienes                  -95823.08\n",
              "               55603          Comisiones y Gastos Bancarios                          -5000.00\n",
              "               56303          A Organismos sin Fines de Lucro                      -172864.00\n",
              "               56304          A Personas Naturales                                   -1675.00\n",
              "               56305          Becas                                                  -4275.00\n",
              "               61101          Mobiliarios                                           -18988.10\n",
              "               61102          Maquinarias y Equipos                                 -16244.34\n",
              "               61103          Equipos Médicos y de Laboratorios                       -655.00\n",
              "               61104          Equipos Informáticos                                   -8740.15\n",
              "               61199          Bienes Muebles Diversos                                -2768.41\n",
              "               61403          Derechos de Propiedad Intelectual                     -16525.00\n",
              "               61699          Obras de Infraestructura Diversas                    -150000.00\n",
              "2009.0         51101          Sueldos                                               -39370.76\n",
              "               51103          Aguinaldos                                              -450.00\n",
              "               51201          Sueldos                                              -446061.45\n",
              "               51203          Aguinaldos                                             -1834.24\n",
              "               51401          Por Remuneraciones Permanentes                         -3310.62\n",
              "               51402          Por Remuneraciones Eventuales                         -18635.30\n",
              "               51501          Por Remuneraciones Permanentes                         -5602.31\n",
              "               51502          Por Remuneraciones Eventuales                         -29169.32\n",
              "               54315          Gastos Reservados                                     544434.00\n",
              "Name: MONTO, Length: 92, dtype: float64"
            ]
          },
          "metadata": {
            "tags": []
          },
          "execution_count": 63
        }
      ]
    },
    {
      "metadata": {
        "id": "CP0OxGE87cPN",
        "colab_type": "code",
        "outputId": "cbdcdbaa-81a6-4d80-f969-bdd16afa6e3e",
        "colab": {
          "base_uri": "https://localhost:8080/",
          "height": 1174
        }
      },
      "cell_type": "code",
      "source": [
        "by_code = modif.groupby(['CLASIF_PRESUP', 'NOMB_CLAS_PRES']).sum()['MONTO']\n",
        "by_code.to_csv('modificaciones_por_especifico.csv', index=False)\n",
        "by_code"
      ],
      "execution_count": 0,
      "outputs": [
        {
          "output_type": "execute_result",
          "data": {
            "text/plain": [
              "CLASIF_PRESUP  NOMB_CLAS_PRES                                        \n",
              "51101          Sueldos                                                    -928030.68\n",
              "51103          Aguinaldos                                                  -35499.60\n",
              "51201          Sueldos                                                    -730977.94\n",
              "51203          Aguinaldos                                                  -10221.74\n",
              "51401          Por Remuneraciones Permanentes                              -85911.86\n",
              "51402          Por Remuneraciones Eventuales                               -34980.14\n",
              "51501          Por Remuneraciones Permanentes                              -52118.51\n",
              "51502          Por Remuneraciones Eventuales                               -44904.83\n",
              "51701          Al Personal de Servicios Permanentes                        -61724.23\n",
              "51702          Al Personal de Servicios Eventuales                          -3070.00\n",
              "51999          Remuneraciones Diversas                                      -1833.47\n",
              "54101          Productos Alimenticios para Personas                        -60695.68\n",
              "54103          Productos Agropecuarios y Forestales                        -27704.99\n",
              "54104          Productos Textiles y Vestuarios                             -34144.20\n",
              "54105          Productos de Papel y Cartón                                 -57884.77\n",
              "54106          Productos de Cuero y Caucho                                 -18450.28\n",
              "54107          Productos Químicos                                           -8378.11\n",
              "54108          Productos Farmacéuticos y Medicinales                       -60375.17\n",
              "54109          Llantas y Neumáticos                                        -32010.86\n",
              "54110          Combustibles y Lubricantes                                 -189639.91\n",
              "54111          Minerales no Métalicos y Productos Derivados                -37018.26\n",
              "54112          Minerales Métalicos y Productos Derivados                   -13241.79\n",
              "54113          Materiales e Instrumental de Laboratorios y uso Médico        -710.00\n",
              "54114          Materiales de Oficina                                       -40873.45\n",
              "54115          Materiales Informáticos                                     -31224.36\n",
              "54116          Libros , Textos, Utiles de Enseñanza y Publicaciones        -14173.28\n",
              "54118          Herramientas, Repuestos y Accesorios                        -47279.18\n",
              "54119          Materiales Eléctricos                                       -22519.70\n",
              "54199          Bienes de Uso y Consumo Diversos                           -748060.39\n",
              "54201          Servicios de Energía Eléctrica                             -309121.36\n",
              "                                                                            ...     \n",
              "54309          Servicios de Laboratorios                                     -994.62\n",
              "54310          Servicios de Alimentación                                  -258704.25\n",
              "54313          Impresiones, Publicaciones y Reproducciones                -128280.39\n",
              "54315          Gastos Reservados                                         10676612.00\n",
              "54316          Arrendamiento de Bienes Muebles                            -251512.96\n",
              "54317          Arrendamiento de Bienes Inmuebles                            -4578.25\n",
              "54399          Servicios Generales y Arrendamientos Diversos              -133059.22\n",
              "54401          Pasajes al Interior                                         -47989.24\n",
              "54402          Pasajes al Exterior                                         -70177.28\n",
              "54403          Viáticos por Comisión Interna                               -30527.62\n",
              "54404          Viáticos por Comisión Externa                               -31697.93\n",
              "54501          Servicios Médicos                                           -18441.04\n",
              "54503          Servicios Jurídicos                                          -1700.00\n",
              "54505          Servicios de Capacitación                                  -107325.00\n",
              "54508          Estudios e Investigaciones                                  -25000.00\n",
              "54599          Consultorías, Estudios e Investigaciones Diversas          -307417.70\n",
              "55599          Impuestos, Tasas y Derechos Diversos                        -36061.10\n",
              "55601          Primas y Gastos de Seguros de Personas                      -19215.82\n",
              "55602          Primas y Gastos de Seguros de Bienes                        -95823.08\n",
              "55603          Comisiones y Gastos Bancarios                                -5000.00\n",
              "56303          A Organismos sin Fines de Lucro                            -172864.00\n",
              "56304          A Personas Naturales                                         -1675.00\n",
              "56305          Becas                                                        -4275.00\n",
              "61101          Mobiliarios                                                 -18988.10\n",
              "61102          Maquinarias y Equipos                                       -16244.34\n",
              "61103          Equipos Médicos y de Laboratorios                             -655.00\n",
              "61104          Equipos Informáticos                                         -8740.15\n",
              "61199          Bienes Muebles Diversos                                      -2768.41\n",
              "61403          Derechos de Propiedad Intelectual                           -16525.00\n",
              "61699          Obras de Infraestructura Diversas                          -150000.00\n",
              "Name: MONTO, Length: 71, dtype: float64"
            ]
          },
          "metadata": {
            "tags": []
          },
          "execution_count": 62
        }
      ]
    }
  ]
}