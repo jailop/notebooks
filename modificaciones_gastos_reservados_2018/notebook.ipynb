{
 "cells": [
  {
   "cell_type": "markdown",
   "metadata": {
    "colab_type": "text",
    "id": "view-in-github"
   },
   "source": [
    "<a href=\"https://colab.research.google.com/github/jailop/notebooks/blob/master/modificaciones_gastos_reservados_2018/notebook.ipynb\" target=\"_parent\"><img src=\"https://colab.research.google.com/assets/colab-badge.svg\" alt=\"Open In Colab\"/></a>"
   ]
  },
  {
   "cell_type": "markdown",
   "metadata": {
    "colab_type": "text",
    "id": "Vs-vMOepy-lx"
   },
   "source": [
    "# Modificaciones presupuestarias para gastos reservados de la Presidencia.\n",
    "\n",
    "Marzo de 2019\n",
    "\n",
    "En este notebook se analizan las modificaciones presupuestarias relacionadas con la partida de gastos reservados de la Presidencia de la República que fueron realizadas al final del ejercicio fiscal 2018.\n",
    "\n",
    "La información fuente corresponde a una base de datos proporcionada por el Ministerio de Hacienda en la que están registrados a nivel de objeto específico de gastos las modificaciones hechas al Presupuesto del ejercicio fiscal 2018.\n",
    "\n",
    "Referencias:\n",
    "\n",
    "- [Expediente de la solicitud de información de las modificaciones del Presupuesto 2018](https://alac.funde.org/requests/5c4b51a120d8e75a955c8be3)"
   ]
  },
  {
   "cell_type": "markdown",
   "metadata": {
    "colab_type": "text",
    "id": "zA1BfHJT2RlY"
   },
   "source": [
    "## 1. Explorando el dataset\n",
    "\n",
    "En esta sección se hace una revisión general del dataset, para saber su tamaño y los atributos que lo conforman."
   ]
  },
  {
   "cell_type": "code",
   "execution_count": 39,
   "metadata": {
    "colab": {},
    "colab_type": "code",
    "id": "7EHe1xhhy92G"
   },
   "outputs": [],
   "source": [
    "# Loading libraries\n",
    "import pandas as pd\n",
    "from IPython.display import display\n",
    "from ipywidgets import interact\n",
    "import ipywidgets as widgets"
   ]
  },
  {
   "cell_type": "code",
   "execution_count": 15,
   "metadata": {
    "colab": {},
    "colab_type": "code",
    "id": "MBGNISqqzDZ4"
   },
   "outputs": [],
   "source": [
    "# Loading dataset from Internet and making a local copy\n",
    "url = 'https://alac.funde.org/docs/5c6346ac3b775031c2865e9c'\n",
    "data = pd.read_excel(url)\n",
    "data.to_csv('data_in/modificaciones_presupuestarias_2018.csv', index=False)"
   ]
  },
  {
   "cell_type": "code",
   "execution_count": 16,
   "metadata": {
    "colab": {},
    "colab_type": "code",
    "id": "VF47GjvA2pS3"
   },
   "outputs": [],
   "source": [
    "# Restoring from local copy\n",
    "data = pd.read_csv('data_in/modificaciones_presupuestarias_2018.csv')"
   ]
  },
  {
   "cell_type": "code",
   "execution_count": 4,
   "metadata": {
    "colab": {
     "base_uri": "https://localhost:8080/",
     "height": 127
    },
    "colab_type": "code",
    "id": "dEf0SxwT2Mkl",
    "outputId": "b468a2d7-0496-47dc-b515-1f2149fd9f2e"
   },
   "outputs": [
    {
     "data": {
      "text/plain": [
       "Index(['EJERCICIO', 'INSTITUCION', 'NOMB_INST', 'AREA_GESTIO',\n",
       "       'NOMB_AREA_GEST', 'FUENTE_FINANC', 'NOMB_FUEN_FINA', 'CLASIF_PRESUP',\n",
       "       'NOMB_CLAS_PRES', 'MONTO', 'CLAECO', 'NOMB_CLAS_ECON',\n",
       "       'TIPO_AFEC_AJUS_PEP', 'AFECTACION', 'ACUERD_EJECUT', 'FECH_ACUE_EJEC',\n",
       "       'DECRET_LEGISL', 'FECH_DECR_LEGI'],\n",
       "      dtype='object')"
      ]
     },
     "execution_count": 4,
     "metadata": {},
     "output_type": "execute_result"
    }
   ],
   "source": [
    "# Getting attribute names\n",
    "data.columns"
   ]
  },
  {
   "cell_type": "code",
   "execution_count": 5,
   "metadata": {
    "colab": {
     "base_uri": "https://localhost:8080/",
     "height": 35
    },
    "colab_type": "code",
    "id": "372hFrWE2ZLE",
    "outputId": "475e25ec-4bbf-4ef2-8903-fba20525c3bc"
   },
   "outputs": [
    {
     "data": {
      "text/plain": [
       "(8865, 18)"
      ]
     },
     "execution_count": 5,
     "metadata": {},
     "output_type": "execute_result"
    }
   ],
   "source": [
    "# Getting number of rows and columns\n",
    "data.shape"
   ]
  },
  {
   "cell_type": "code",
   "execution_count": 6,
   "metadata": {
    "colab": {
     "base_uri": "https://localhost:8080/",
     "height": 313
    },
    "colab_type": "code",
    "id": "YHM1xujB209q",
    "outputId": "c7e24a1a-e982-4546-d742-f7b7073f09cb"
   },
   "outputs": [
    {
     "data": {
      "text/html": [
       "<div>\n",
       "<style scoped>\n",
       "    .dataframe tbody tr th:only-of-type {\n",
       "        vertical-align: middle;\n",
       "    }\n",
       "\n",
       "    .dataframe tbody tr th {\n",
       "        vertical-align: top;\n",
       "    }\n",
       "\n",
       "    .dataframe thead th {\n",
       "        text-align: right;\n",
       "    }\n",
       "</style>\n",
       "<table border=\"1\" class=\"dataframe\">\n",
       "  <thead>\n",
       "    <tr style=\"text-align: right;\">\n",
       "      <th></th>\n",
       "      <th>EJERCICIO</th>\n",
       "      <th>INSTITUCION</th>\n",
       "      <th>NOMB_INST</th>\n",
       "      <th>AREA_GESTIO</th>\n",
       "      <th>NOMB_AREA_GEST</th>\n",
       "      <th>FUENTE_FINANC</th>\n",
       "      <th>NOMB_FUEN_FINA</th>\n",
       "      <th>CLASIF_PRESUP</th>\n",
       "      <th>NOMB_CLAS_PRES</th>\n",
       "      <th>MONTO</th>\n",
       "      <th>CLAECO</th>\n",
       "      <th>NOMB_CLAS_ECON</th>\n",
       "      <th>TIPO_AFEC_AJUS_PEP</th>\n",
       "      <th>AFECTACION</th>\n",
       "      <th>ACUERD_EJECUT</th>\n",
       "      <th>FECH_ACUE_EJEC</th>\n",
       "      <th>DECRET_LEGISL</th>\n",
       "      <th>FECH_DECR_LEGI</th>\n",
       "    </tr>\n",
       "  </thead>\n",
       "  <tbody>\n",
       "    <tr>\n",
       "      <th>0</th>\n",
       "      <td>2018</td>\n",
       "      <td>100</td>\n",
       "      <td>Organo Legislativo</td>\n",
       "      <td>1</td>\n",
       "      <td>Conducción Administrativa</td>\n",
       "      <td>1</td>\n",
       "      <td>Fondo General</td>\n",
       "      <td>51107</td>\n",
       "      <td>Beneficios Adicionales</td>\n",
       "      <td>1800000.0</td>\n",
       "      <td>2111</td>\n",
       "      <td>Remuneraciones</td>\n",
       "      <td>1</td>\n",
       "      <td>Disminución</td>\n",
       "      <td>3097.0</td>\n",
       "      <td>27/02/18</td>\n",
       "      <td>NaN</td>\n",
       "      <td>NaN</td>\n",
       "    </tr>\n",
       "    <tr>\n",
       "      <th>1</th>\n",
       "      <td>2018</td>\n",
       "      <td>100</td>\n",
       "      <td>Organo Legislativo</td>\n",
       "      <td>1</td>\n",
       "      <td>Conducción Administrativa</td>\n",
       "      <td>1</td>\n",
       "      <td>Fondo General</td>\n",
       "      <td>51207</td>\n",
       "      <td>Beneficios Adicionales</td>\n",
       "      <td>1020000.0</td>\n",
       "      <td>2111</td>\n",
       "      <td>Remuneraciones</td>\n",
       "      <td>1</td>\n",
       "      <td>Disminución</td>\n",
       "      <td>3097.0</td>\n",
       "      <td>27/02/18</td>\n",
       "      <td>NaN</td>\n",
       "      <td>NaN</td>\n",
       "    </tr>\n",
       "    <tr>\n",
       "      <th>2</th>\n",
       "      <td>2018</td>\n",
       "      <td>100</td>\n",
       "      <td>Organo Legislativo</td>\n",
       "      <td>1</td>\n",
       "      <td>Conducción Administrativa</td>\n",
       "      <td>1</td>\n",
       "      <td>Fondo General</td>\n",
       "      <td>51201</td>\n",
       "      <td>Sueldos</td>\n",
       "      <td>282520.0</td>\n",
       "      <td>2111</td>\n",
       "      <td>Remuneraciones</td>\n",
       "      <td>2</td>\n",
       "      <td>Aumento</td>\n",
       "      <td>3097.0</td>\n",
       "      <td>27/02/18</td>\n",
       "      <td>NaN</td>\n",
       "      <td>NaN</td>\n",
       "    </tr>\n",
       "    <tr>\n",
       "      <th>3</th>\n",
       "      <td>2018</td>\n",
       "      <td>100</td>\n",
       "      <td>Organo Legislativo</td>\n",
       "      <td>1</td>\n",
       "      <td>Conducción Administrativa</td>\n",
       "      <td>1</td>\n",
       "      <td>Fondo General</td>\n",
       "      <td>51201</td>\n",
       "      <td>Sueldos</td>\n",
       "      <td>320525.0</td>\n",
       "      <td>2111</td>\n",
       "      <td>Remuneraciones</td>\n",
       "      <td>2</td>\n",
       "      <td>Aumento</td>\n",
       "      <td>3097.0</td>\n",
       "      <td>27/02/18</td>\n",
       "      <td>NaN</td>\n",
       "      <td>NaN</td>\n",
       "    </tr>\n",
       "    <tr>\n",
       "      <th>4</th>\n",
       "      <td>2018</td>\n",
       "      <td>100</td>\n",
       "      <td>Organo Legislativo</td>\n",
       "      <td>1</td>\n",
       "      <td>Conducción Administrativa</td>\n",
       "      <td>1</td>\n",
       "      <td>Fondo General</td>\n",
       "      <td>51201</td>\n",
       "      <td>Sueldos</td>\n",
       "      <td>320525.0</td>\n",
       "      <td>2111</td>\n",
       "      <td>Remuneraciones</td>\n",
       "      <td>2</td>\n",
       "      <td>Aumento</td>\n",
       "      <td>3097.0</td>\n",
       "      <td>27/02/18</td>\n",
       "      <td>NaN</td>\n",
       "      <td>NaN</td>\n",
       "    </tr>\n",
       "  </tbody>\n",
       "</table>\n",
       "</div>"
      ],
      "text/plain": [
       "   EJERCICIO  INSTITUCION           NOMB_INST  AREA_GESTIO  \\\n",
       "0       2018          100  Organo Legislativo            1   \n",
       "1       2018          100  Organo Legislativo            1   \n",
       "2       2018          100  Organo Legislativo            1   \n",
       "3       2018          100  Organo Legislativo            1   \n",
       "4       2018          100  Organo Legislativo            1   \n",
       "\n",
       "              NOMB_AREA_GEST  FUENTE_FINANC NOMB_FUEN_FINA  CLASIF_PRESUP  \\\n",
       "0  Conducción Administrativa              1  Fondo General          51107   \n",
       "1  Conducción Administrativa              1  Fondo General          51207   \n",
       "2  Conducción Administrativa              1  Fondo General          51201   \n",
       "3  Conducción Administrativa              1  Fondo General          51201   \n",
       "4  Conducción Administrativa              1  Fondo General          51201   \n",
       "\n",
       "           NOMB_CLAS_PRES      MONTO  CLAECO  NOMB_CLAS_ECON  \\\n",
       "0  Beneficios Adicionales  1800000.0    2111  Remuneraciones   \n",
       "1  Beneficios Adicionales  1020000.0    2111  Remuneraciones   \n",
       "2                 Sueldos   282520.0    2111  Remuneraciones   \n",
       "3                 Sueldos   320525.0    2111  Remuneraciones   \n",
       "4                 Sueldos   320525.0    2111  Remuneraciones   \n",
       "\n",
       "   TIPO_AFEC_AJUS_PEP   AFECTACION  ACUERD_EJECUT FECH_ACUE_EJEC  \\\n",
       "0                   1  Disminución         3097.0       27/02/18   \n",
       "1                   1  Disminución         3097.0       27/02/18   \n",
       "2                   2      Aumento         3097.0       27/02/18   \n",
       "3                   2      Aumento         3097.0       27/02/18   \n",
       "4                   2      Aumento         3097.0       27/02/18   \n",
       "\n",
       "   DECRET_LEGISL FECH_DECR_LEGI  \n",
       "0            NaN            NaN  \n",
       "1            NaN            NaN  \n",
       "2            NaN            NaN  \n",
       "3            NaN            NaN  \n",
       "4            NaN            NaN  "
      ]
     },
     "execution_count": 6,
     "metadata": {},
     "output_type": "execute_result"
    }
   ],
   "source": [
    "# Checking head dataset\n",
    "data.head()"
   ]
  },
  {
   "cell_type": "markdown",
   "metadata": {
    "colab_type": "text",
    "id": "oPFktBZW5eee"
   },
   "source": [
    "El dataset de las modificaciones presupuestarias de 2018 contiene más de 8 mil registros y 18 atributos, entre ellos los referidos a la institución, la clasificación presupuestarias, el monto y las referencias de los documentos de soporte."
   ]
  },
  {
   "cell_type": "code",
   "execution_count": 7,
   "metadata": {
    "colab": {},
    "colab_type": "code",
    "id": "NCbQS7Ht7g0m"
   },
   "outputs": [],
   "source": [
    "# Adjusting sign based on kind of affectation\n",
    "data['MONTO'] = data['MONTO'] * data['AFECTACION'].apply(lambda x: 1 if x == 'Aumento' else -1)"
   ]
  },
  {
   "cell_type": "markdown",
   "metadata": {
    "colab_type": "text",
    "id": "ppuTFurW5_Co"
   },
   "source": [
    "## 2. Modificaciones de gastos reservados\n",
    "\n",
    "En esta sección se identifican las modificaciones que corresponden a la partida de gastos reservados."
   ]
  },
  {
   "cell_type": "code",
   "execution_count": 8,
   "metadata": {
    "colab": {},
    "colab_type": "code",
    "id": "5A3nEeTt242v"
   },
   "outputs": [],
   "source": [
    "# Filtering records for code 54315\n",
    "secret_expenses = data[data['CLASIF_PRESUP'] == 54315]"
   ]
  },
  {
   "cell_type": "code",
   "execution_count": 9,
   "metadata": {
    "colab": {
     "base_uri": "https://localhost:8080/",
     "height": 334
    },
    "colab_type": "code",
    "id": "y-ddfzop6agW",
    "outputId": "79c7b552-8b70-4e62-c94d-1d7887cd99bf"
   },
   "outputs": [
    {
     "data": {
      "text/html": [
       "<div>\n",
       "<style scoped>\n",
       "    .dataframe tbody tr th:only-of-type {\n",
       "        vertical-align: middle;\n",
       "    }\n",
       "\n",
       "    .dataframe tbody tr th {\n",
       "        vertical-align: top;\n",
       "    }\n",
       "\n",
       "    .dataframe thead th {\n",
       "        text-align: right;\n",
       "    }\n",
       "</style>\n",
       "<table border=\"1\" class=\"dataframe\">\n",
       "  <thead>\n",
       "    <tr style=\"text-align: right;\">\n",
       "      <th></th>\n",
       "      <th>EJERCICIO</th>\n",
       "      <th>INSTITUCION</th>\n",
       "      <th>NOMB_INST</th>\n",
       "      <th>AREA_GESTIO</th>\n",
       "      <th>NOMB_AREA_GEST</th>\n",
       "      <th>FUENTE_FINANC</th>\n",
       "      <th>NOMB_FUEN_FINA</th>\n",
       "      <th>CLASIF_PRESUP</th>\n",
       "      <th>NOMB_CLAS_PRES</th>\n",
       "      <th>MONTO</th>\n",
       "      <th>CLAECO</th>\n",
       "      <th>NOMB_CLAS_ECON</th>\n",
       "      <th>TIPO_AFEC_AJUS_PEP</th>\n",
       "      <th>AFECTACION</th>\n",
       "      <th>ACUERD_EJECUT</th>\n",
       "      <th>FECH_ACUE_EJEC</th>\n",
       "      <th>DECRET_LEGISL</th>\n",
       "      <th>FECH_DECR_LEGI</th>\n",
       "    </tr>\n",
       "  </thead>\n",
       "  <tbody>\n",
       "    <tr>\n",
       "      <th>145</th>\n",
       "      <td>2018</td>\n",
       "      <td>500</td>\n",
       "      <td>Presidencia de la República</td>\n",
       "      <td>1</td>\n",
       "      <td>Conducción Administrativa</td>\n",
       "      <td>1</td>\n",
       "      <td>Fondo General</td>\n",
       "      <td>54315</td>\n",
       "      <td>Gastos Reservados</td>\n",
       "      <td>544434.0</td>\n",
       "      <td>2112</td>\n",
       "      <td>Bienes y Servicios</td>\n",
       "      <td>2</td>\n",
       "      <td>Aumento</td>\n",
       "      <td>2009.0</td>\n",
       "      <td>21/12/18</td>\n",
       "      <td>NaN</td>\n",
       "      <td>NaN</td>\n",
       "    </tr>\n",
       "    <tr>\n",
       "      <th>282</th>\n",
       "      <td>2018</td>\n",
       "      <td>500</td>\n",
       "      <td>Presidencia de la República</td>\n",
       "      <td>1</td>\n",
       "      <td>Conducción Administrativa</td>\n",
       "      <td>1</td>\n",
       "      <td>Fondo General</td>\n",
       "      <td>54315</td>\n",
       "      <td>Gastos Reservados</td>\n",
       "      <td>5764503.0</td>\n",
       "      <td>2112</td>\n",
       "      <td>Bienes y Servicios</td>\n",
       "      <td>2</td>\n",
       "      <td>Aumento</td>\n",
       "      <td>1990.0</td>\n",
       "      <td>21/12/18</td>\n",
       "      <td>NaN</td>\n",
       "      <td>NaN</td>\n",
       "    </tr>\n",
       "    <tr>\n",
       "      <th>283</th>\n",
       "      <td>2018</td>\n",
       "      <td>500</td>\n",
       "      <td>Presidencia de la República</td>\n",
       "      <td>1</td>\n",
       "      <td>Conducción Administrativa</td>\n",
       "      <td>1</td>\n",
       "      <td>Fondo General</td>\n",
       "      <td>54315</td>\n",
       "      <td>Gastos Reservados</td>\n",
       "      <td>800000.0</td>\n",
       "      <td>2112</td>\n",
       "      <td>Bienes y Servicios</td>\n",
       "      <td>2</td>\n",
       "      <td>Aumento</td>\n",
       "      <td>1844.0</td>\n",
       "      <td>05/12/18</td>\n",
       "      <td>NaN</td>\n",
       "      <td>NaN</td>\n",
       "    </tr>\n",
       "    <tr>\n",
       "      <th>284</th>\n",
       "      <td>2018</td>\n",
       "      <td>500</td>\n",
       "      <td>Presidencia de la República</td>\n",
       "      <td>1</td>\n",
       "      <td>Conducción Administrativa</td>\n",
       "      <td>1</td>\n",
       "      <td>Fondo General</td>\n",
       "      <td>54315</td>\n",
       "      <td>Gastos Reservados</td>\n",
       "      <td>3567675.0</td>\n",
       "      <td>2112</td>\n",
       "      <td>Bienes y Servicios</td>\n",
       "      <td>2</td>\n",
       "      <td>Aumento</td>\n",
       "      <td>1929.0</td>\n",
       "      <td>13/12/18</td>\n",
       "      <td>NaN</td>\n",
       "      <td>NaN</td>\n",
       "    </tr>\n",
       "  </tbody>\n",
       "</table>\n",
       "</div>"
      ],
      "text/plain": [
       "     EJERCICIO  INSTITUCION                    NOMB_INST  AREA_GESTIO  \\\n",
       "145       2018          500  Presidencia de la República            1   \n",
       "282       2018          500  Presidencia de la República            1   \n",
       "283       2018          500  Presidencia de la República            1   \n",
       "284       2018          500  Presidencia de la República            1   \n",
       "\n",
       "                NOMB_AREA_GEST  FUENTE_FINANC NOMB_FUEN_FINA  CLASIF_PRESUP  \\\n",
       "145  Conducción Administrativa              1  Fondo General          54315   \n",
       "282  Conducción Administrativa              1  Fondo General          54315   \n",
       "283  Conducción Administrativa              1  Fondo General          54315   \n",
       "284  Conducción Administrativa              1  Fondo General          54315   \n",
       "\n",
       "        NOMB_CLAS_PRES      MONTO  CLAECO      NOMB_CLAS_ECON  \\\n",
       "145  Gastos Reservados   544434.0    2112  Bienes y Servicios   \n",
       "282  Gastos Reservados  5764503.0    2112  Bienes y Servicios   \n",
       "283  Gastos Reservados   800000.0    2112  Bienes y Servicios   \n",
       "284  Gastos Reservados  3567675.0    2112  Bienes y Servicios   \n",
       "\n",
       "     TIPO_AFEC_AJUS_PEP AFECTACION  ACUERD_EJECUT FECH_ACUE_EJEC  \\\n",
       "145                   2    Aumento         2009.0       21/12/18   \n",
       "282                   2    Aumento         1990.0       21/12/18   \n",
       "283                   2    Aumento         1844.0       05/12/18   \n",
       "284                   2    Aumento         1929.0       13/12/18   \n",
       "\n",
       "     DECRET_LEGISL FECH_DECR_LEGI  \n",
       "145            NaN            NaN  \n",
       "282            NaN            NaN  \n",
       "283            NaN            NaN  \n",
       "284            NaN            NaN  "
      ]
     },
     "execution_count": 9,
     "metadata": {},
     "output_type": "execute_result"
    }
   ],
   "source": [
    "secret_expenses"
   ]
  },
  {
   "cell_type": "markdown",
   "metadata": {
    "colab_type": "text",
    "id": "c4Yv0sZT68p3"
   },
   "source": [
    "Durante el año 2018 se hiceron 4 modificaciones presupuestarias relacionadas con el objeto específico 54315 - Gastos reservados. Todas corresponden a la Presidencia de la República."
   ]
  },
  {
   "cell_type": "code",
   "execution_count": 10,
   "metadata": {
    "colab": {
     "base_uri": "https://localhost:8080/",
     "height": 127
    },
    "colab_type": "code",
    "id": "z_0QfTOr6cZb",
    "outputId": "743cebec-1ebe-4b0b-d951-09ef4e063d78"
   },
   "outputs": [
    {
     "data": {
      "text/plain": [
       "ACUERD_EJECUT  FECH_ACUE_EJEC\n",
       "1844.0         05/12/18           800000.0\n",
       "1929.0         13/12/18          3567675.0\n",
       "1990.0         21/12/18          5764503.0\n",
       "2009.0         21/12/18           544434.0\n",
       "Name: MONTO, dtype: float64"
      ]
     },
     "execution_count": 10,
     "metadata": {},
     "output_type": "execute_result"
    }
   ],
   "source": [
    "resolutions = secret_expenses.groupby(['ACUERD_EJECUT', 'FECH_ACUE_EJEC']).sum()['MONTO']\n",
    "resolutions"
   ]
  },
  {
   "cell_type": "markdown",
   "metadata": {
    "colab_type": "text",
    "id": "R1kRjWj288UA"
   },
   "source": [
    "Se observa que las modificaciones relacionadas con la partida de gastos reservados de la Presidencia fueron autorizadas por medio de cuatro acuerdos ejecutivos emitidos durante diciembre de 2018. Al tener estos datos se procedió a solicitar al Ministerio de Hacienda la copia de dichos acuerdos. Los enlaces a los mismos se incluyen a continuación:\n",
    "\n",
    "- [Acuerdo No. 1844 de Dic. 05, 2018](https://alac.funde.org/docs/5c8038da3b775031c287f990)\n",
    "- [Acuerdo No. 1929 de Dic 13, 2018](https://alac.funde.org/docs/5c80390f3b775031c287f9a6)\n",
    "- [Acuerdo No. 1990 de Dic. 21, 2018](https://alac.funde.org/docs/5c8038b93b775031c287f97b)\n",
    "- [Acuerdo No. 2009 de Dic. 21, 2018](https://alac.funde.org/docs/5c80389d3b775031c287f967)\n",
    "\n",
    "Referencias:\n",
    "\n",
    "- [Expediente de la solicitud de información de los acuerdos](https://alac.funde.org/requests/5c756f1c3b775031c2875516)"
   ]
  },
  {
   "cell_type": "code",
   "execution_count": 11,
   "metadata": {
    "colab": {
     "base_uri": "https://localhost:8080/",
     "height": 35
    },
    "colab_type": "code",
    "id": "z0PseQbWf9PE",
    "outputId": "7a90e62e-a92b-48b0-e5bc-1356a0f5ccdf"
   },
   "outputs": [
    {
     "data": {
      "text/plain": [
       "10.676612"
      ]
     },
     "execution_count": 11,
     "metadata": {},
     "output_type": "execute_result"
    }
   ],
   "source": [
    "resolutions.sum() / 1e6"
   ]
  },
  {
   "cell_type": "markdown",
   "metadata": {
    "colab_type": "text",
    "id": "mxyunHTQgHiY"
   },
   "source": [
    "En total se hicieron modificaciones por USD 10.7 millones."
   ]
  },
  {
   "cell_type": "markdown",
   "metadata": {
    "colab_type": "text",
    "id": "2CX-qPx1-hlU"
   },
   "source": [
    "## 3. Partidas de origen de las modificaciones\n",
    "\n",
    "Con base en los números de acuerdos se identifican el resto de partidas que fueron afectadas en las modificaciones de los gastos reservados."
   ]
  },
  {
   "cell_type": "code",
   "execution_count": 36,
   "metadata": {
    "colab": {},
    "colab_type": "code",
    "id": "TkOUpZXL_8nx"
   },
   "outputs": [],
   "source": [
    "# Getting resolution numbers\n",
    "resolution_refs = set(resolutions.reset_index()['ACUERD_EJECUT'])\n",
    "# Filtering for records in resolutions\n",
    "modif = data[data['ACUERD_EJECUT'].apply(lambda x: x in resolution_refs)]"
   ]
  },
  {
   "cell_type": "code",
   "execution_count": 37,
   "metadata": {
    "colab": {
     "base_uri": "https://localhost:8080/",
     "height": 1174
    },
    "colab_type": "code",
    "id": "YiDVaC3WAX16",
    "outputId": "ab0874d2-9caa-43c2-9225-17af4b3694e5"
   },
   "outputs": [
    {
     "data": {
      "text/html": [
       "<div>\n",
       "<style scoped>\n",
       "    .dataframe tbody tr th:only-of-type {\n",
       "        vertical-align: middle;\n",
       "    }\n",
       "\n",
       "    .dataframe tbody tr th {\n",
       "        vertical-align: top;\n",
       "    }\n",
       "\n",
       "    .dataframe thead th {\n",
       "        text-align: right;\n",
       "    }\n",
       "</style>\n",
       "<table border=\"1\" class=\"dataframe\">\n",
       "  <thead>\n",
       "    <tr style=\"text-align: right;\">\n",
       "      <th></th>\n",
       "      <th>ACUERD_EJECUT</th>\n",
       "      <th>CLASIF_PRESUP</th>\n",
       "      <th>NOMB_CLAS_PRES</th>\n",
       "      <th>MONTO</th>\n",
       "    </tr>\n",
       "  </thead>\n",
       "  <tbody>\n",
       "    <tr>\n",
       "      <th>0</th>\n",
       "      <td>1844.0</td>\n",
       "      <td>51101</td>\n",
       "      <td>Sueldos</td>\n",
       "      <td>531149.98</td>\n",
       "    </tr>\n",
       "    <tr>\n",
       "      <th>1</th>\n",
       "      <td>1844.0</td>\n",
       "      <td>51201</td>\n",
       "      <td>Sueldos</td>\n",
       "      <td>150577.43</td>\n",
       "    </tr>\n",
       "    <tr>\n",
       "      <th>2</th>\n",
       "      <td>1844.0</td>\n",
       "      <td>51401</td>\n",
       "      <td>Por Remuneraciones Permanentes</td>\n",
       "      <td>41909.22</td>\n",
       "    </tr>\n",
       "    <tr>\n",
       "      <th>3</th>\n",
       "      <td>1844.0</td>\n",
       "      <td>51402</td>\n",
       "      <td>Por Remuneraciones Eventuales</td>\n",
       "      <td>6364.04</td>\n",
       "    </tr>\n",
       "    <tr>\n",
       "      <th>4</th>\n",
       "      <td>1844.0</td>\n",
       "      <td>51501</td>\n",
       "      <td>Por Remuneraciones Permanentes</td>\n",
       "      <td>29889.40</td>\n",
       "    </tr>\n",
       "  </tbody>\n",
       "</table>\n",
       "</div>"
      ],
      "text/plain": [
       "   ACUERD_EJECUT  CLASIF_PRESUP                  NOMB_CLAS_PRES      MONTO\n",
       "0         1844.0          51101                         Sueldos  531149.98\n",
       "1         1844.0          51201                         Sueldos  150577.43\n",
       "2         1844.0          51401  Por Remuneraciones Permanentes   41909.22\n",
       "3         1844.0          51402   Por Remuneraciones Eventuales    6364.04\n",
       "4         1844.0          51501  Por Remuneraciones Permanentes   29889.40"
      ]
     },
     "execution_count": 37,
     "metadata": {},
     "output_type": "execute_result"
    }
   ],
   "source": [
    "by_resolution = modif.groupby(['ACUERD_EJECUT', 'CLASIF_PRESUP', 'NOMB_CLAS_PRES']).sum()['MONTO'].reset_index()\n",
    "by_resolution.to_csv('data_out/modificaciones_por_acuerdo.csv', header=True, index=False)\n",
    "by_resolution.head()"
   ]
  },
  {
   "cell_type": "code",
   "execution_count": 40,
   "metadata": {},
   "outputs": [
    {
     "data": {
      "text/html": [
       "<div>\n",
       "<style scoped>\n",
       "    .dataframe tbody tr th:only-of-type {\n",
       "        vertical-align: middle;\n",
       "    }\n",
       "\n",
       "    .dataframe tbody tr th {\n",
       "        vertical-align: top;\n",
       "    }\n",
       "\n",
       "    .dataframe thead th {\n",
       "        text-align: right;\n",
       "    }\n",
       "</style>\n",
       "<table border=\"1\" class=\"dataframe\">\n",
       "  <thead>\n",
       "    <tr style=\"text-align: right;\">\n",
       "      <th></th>\n",
       "      <th>ACUERD_EJECUT</th>\n",
       "      <th>CLASIF_PRESUP</th>\n",
       "      <th>NOMB_CLAS_PRES</th>\n",
       "      <th>MONTO</th>\n",
       "    </tr>\n",
       "  </thead>\n",
       "  <tbody>\n",
       "    <tr>\n",
       "      <th>10</th>\n",
       "      <td>1929.0</td>\n",
       "      <td>54305</td>\n",
       "      <td>Servicios de Publicidad</td>\n",
       "      <td>3567675.0</td>\n",
       "    </tr>\n",
       "    <tr>\n",
       "      <th>11</th>\n",
       "      <td>1929.0</td>\n",
       "      <td>54315</td>\n",
       "      <td>Gastos Reservados</td>\n",
       "      <td>3567675.0</td>\n",
       "    </tr>\n",
       "  </tbody>\n",
       "</table>\n",
       "</div>"
      ],
      "text/plain": [
       "    ACUERD_EJECUT  CLASIF_PRESUP           NOMB_CLAS_PRES      MONTO\n",
       "10         1929.0          54305  Servicios de Publicidad  3567675.0\n",
       "11         1929.0          54315        Gastos Reservados  3567675.0"
      ]
     },
     "metadata": {},
     "output_type": "display_data"
    },
    {
     "data": {
      "text/plain": [
       "<function __main__.displayByResolution(resolution)>"
      ]
     },
     "execution_count": 40,
     "metadata": {},
     "output_type": "execute_result"
    }
   ],
   "source": [
    "def displayByResolution(resolution):\n",
    "    df = by_resolution[by_resolution.ACUERD_EJECUT == resolution]\n",
    "    display(df)\n",
    "\n",
    "interact(displayByResolution, resolution=list(resolution_refs))"
   ]
  },
  {
   "cell_type": "code",
   "execution_count": 20,
   "metadata": {
    "colab": {
     "base_uri": "https://localhost:8080/",
     "height": 1174
    },
    "colab_type": "code",
    "id": "CP0OxGE87cPN",
    "outputId": "cbdcdbaa-81a6-4d80-f969-bdd16afa6e3e"
   },
   "outputs": [
    {
     "data": {
      "text/plain": [
       "CLASIF_PRESUP  NOMB_CLAS_PRES                \n",
       "51101          Sueldos                          -928030.68\n",
       "51103          Aguinaldos                        -35499.60\n",
       "51201          Sueldos                          -730977.94\n",
       "51203          Aguinaldos                        -10221.74\n",
       "51401          Por Remuneraciones Permanentes    -85911.86\n",
       "Name: MONTO, dtype: float64"
      ]
     },
     "execution_count": 20,
     "metadata": {},
     "output_type": "execute_result"
    }
   ],
   "source": [
    "by_code = modif.groupby(['CLASIF_PRESUP', 'NOMB_CLAS_PRES']).sum()['MONTO']\n",
    "by_code.to_csv('data_out/modificaciones_por_especifico.csv', header=True, index=False)\n",
    "by_code.head()"
   ]
  },
  {
   "cell_type": "code",
   "execution_count": null,
   "metadata": {},
   "outputs": [],
   "source": []
  }
 ],
 "metadata": {
  "colab": {
   "include_colab_link": true,
   "name": "mod_gastos_reservados_presidencia_2018.ipynb",
   "provenance": [],
   "version": "0.3.2"
  },
  "kernelspec": {
   "display_name": "Python 3",
   "language": "python",
   "name": "python3"
  },
  "language_info": {
   "codemirror_mode": {
    "name": "ipython",
    "version": 3
   },
   "file_extension": ".py",
   "mimetype": "text/x-python",
   "name": "python",
   "nbconvert_exporter": "python",
   "pygments_lexer": "ipython3",
   "version": "3.7.3"
  }
 },
 "nbformat": 4,
 "nbformat_minor": 2
}
